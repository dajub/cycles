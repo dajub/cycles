{
 "cells": [
  {
   "cell_type": "code",
   "execution_count": 49,
   "metadata": {},
   "outputs": [],
   "source": [
    "import numpy as np\n",
    "import os\n",
    "import pickle\n",
    "import pprint as pp\n",
    "import matplotlib.pyplot as plt"
   ]
  },
  {
   "cell_type": "code",
   "execution_count": 72,
   "metadata": {},
   "outputs": [],
   "source": [
    "CAMPUS_USED_DATA_SET = 454000"
   ]
  },
  {
   "cell_type": "code",
   "execution_count": 10,
   "metadata": {},
   "outputs": [],
   "source": [
    "def getDataFromFile(filename):\n",
    "    with open(filename, 'rb') as f:\n",
    "        x = pickle.load(f)\n",
    "        print(f'Retreived Data from {filename}')\n",
    "        return x\n",
    "def writeDataToFile(data, filename):\n",
    "    outfile = open(filename,'wb')\n",
    "    pickle.dump(data,outfile)\n",
    "    outfile.close()\n",
    "    print(f'wrote data to {filename}')\n",
    "\n",
    "def getMinimums(data, windowSize):\n",
    "    ret = []\n",
    "    for i in range(0, len(data)-windowSize, windowSize):\n",
    "        ret.append(np.min(data[i:i+windowSize]))\n",
    "    return ret"
   ]
  },
  {
   "cell_type": "code",
   "execution_count": 118,
   "metadata": {},
   "outputs": [],
   "source": [
    "def twoWindow(data, windowSize=16, jump1=80, short=False):\n",
    "    if len(data)/2 < windowSize:\n",
    "        print(f'too little data {len(data)} to run twoWindow with window size {windowSize}')\n",
    "        return 0, [], []\n",
    "    jumps = []\n",
    "    flag = 0\n",
    "    mins = getMinimums(data, windowSize)\n",
    "    for i in range(len(mins) - 1):\n",
    "        if mins[i+1] - mins[i] >= jump1:\n",
    "            jumps.append(i)\n",
    "            flag = 1\n",
    "            if short:\n",
    "                return flag, mins, jumps\n",
    "    return flag, mins, jumps            "
   ]
  },
  {
   "cell_type": "code",
   "execution_count": 119,
   "metadata": {},
   "outputs": [],
   "source": [
    "def threeWindow(data, windowSize=16, jump1=80, jump2=2, short=False):\n",
    "    if len(data)/3 < windowSize:\n",
    "        print(f'too little data {len(data)} to run threeWindow with window size {windowSize}')\n",
    "        return 0, [], [], []\n",
    "    jumps = [] # index of jumps\n",
    "    bloats = []\n",
    "    flag # 0: nothing, 1: contains an suspected attack\n",
    "    mins = getMinimums(data, windowSize)\n",
    "    for i in range(len(mins) - 2):\n",
    "        if mins[i+1] - mins[i] >= jump1:\n",
    "            ## see a jump, is it bloat or sustained?\n",
    "            if abs(mins[i+2] - mins[i+1]) < jump2:\n",
    "                jumps.append(i)\n",
    "                flag = 0\n",
    "                if short:\n",
    "                    return flag, mins, jumps, bloats\n",
    "            else:\n",
    "                bloats.append(i)\n",
    "    return flag, mins, jumps, bloats"
   ]
  },
  {
   "cell_type": "code",
   "execution_count": 24,
   "metadata": {},
   "outputs": [],
   "source": [
    "def getCombinedTwoWindowDict(twoWindowDataFull):\n",
    "    combined = {}\n",
    "    keys = list(twoWindowDataFull.keys())\n",
    "    for key in keys:\n",
    "        tup = (key[0], key[1])\n",
    "        old = combined.get(tup, [])\n",
    "        combined[tup] = old + twoWindowDataFull[key]\n",
    "    return combined\n",
    "    "
   ]
  },
  {
   "cell_type": "code",
   "execution_count": 82,
   "metadata": {},
   "outputs": [],
   "source": [
    "def makeTwoWindowConnectionsFlaggedFigure(totalCombinedData):\n",
    "    keys = sorted(list(totalCombinedData.keys()))\n",
    "    counts = []\n",
    "    for key in keys:\n",
    "        counts.append(len(combined[key]))\n",
    "    x8 = []\n",
    "    y8 = []\n",
    "    x16 = []\n",
    "    y16 = []\n",
    "    x24 = []\n",
    "    y24 = []\n",
    "    x32 = []\n",
    "    y32 = []\n",
    "    tracker = {8:[x8,y8], 16:[x16,y16], 24:[x24,y24], 32:[x32,y32]}\n",
    "    for i in range(len(keys)):\n",
    "        windowSize = keys[i][0]\n",
    "        tracker[windowSize][0].append(keys[i][1])\n",
    "        tracker[windowSize][1].append(counts[i]/ CAMPUS_USED_DATA_SET * 100 )\n",
    "    fig, ax = plt.subplots()\n",
    "    legend = []\n",
    "    for windowSize in tracker.keys():\n",
    "        plt.plot(tracker[windowSize][0][7:], tracker[windowSize][1][7:], 'x-')\n",
    "        legend.append(str(windowSize))\n",
    "    plt.legend(legend)\n",
    "    plt.ylabel(\"% of connections flagged\", FontSize = 14)\n",
    "    plt.xlabel(\"jump size\", FontSize=14)\n"
   ]
  },
  {
   "cell_type": "code",
   "execution_count": 84,
   "metadata": {},
   "outputs": [
    {
     "name": "stdout",
     "output_type": "stream",
     "text": [
      "Retreived Data from /n/fs/scratch/djubas/largeRtts1b.pickle\n",
      "Retreived Data from /n/fs/scratch/djubas/largeRtts2b.pickle\n",
      "Retreived Data from /n/fs/scratch/djubas/largeRtts3b.pickle\n",
      "Retreived Data from /n/fs/scratch/djubas/largeRtts4b.pickle\n",
      "Retreived Data from /n/fs/scratch/djubas/largeRtts5b.pickle\n",
      "Retreived Data from /n/fs/scratch/djubas/largeRtts6b.pickle\n",
      "Retreived Data from /n/fs/scratch/djubas/largeRtts7b.pickle\n",
      "Retreived Data from /n/fs/scratch/djubas/largeRtts8b.pickle\n"
     ]
    },
    {
     "ename": "FileNotFoundError",
     "evalue": "[Errno 2] No such file or directory: '/n/fs/scratch/djubas/goodkeys.pickle'",
     "output_type": "error",
     "traceback": [
      "\u001b[0;31m---------------------------------------------------------------------------\u001b[0m",
      "\u001b[0;31mFileNotFoundError\u001b[0m                         Traceback (most recent call last)",
      "\u001b[0;32m<ipython-input-84-6275cd60e8e2>\u001b[0m in \u001b[0;36m<module>\u001b[0;34m\u001b[0m\n\u001b[1;32m      7\u001b[0m \u001b[0mrttData7\u001b[0m \u001b[0;34m=\u001b[0m \u001b[0mgetDataFromFile\u001b[0m\u001b[0;34m(\u001b[0m\u001b[0;34m'/n/fs/scratch/djubas/largeRtts7b.pickle'\u001b[0m\u001b[0;34m)\u001b[0m\u001b[0;34m\u001b[0m\u001b[0;34m\u001b[0m\u001b[0m\n\u001b[1;32m      8\u001b[0m \u001b[0mrttData8\u001b[0m \u001b[0;34m=\u001b[0m \u001b[0mgetDataFromFile\u001b[0m\u001b[0;34m(\u001b[0m\u001b[0;34m'/n/fs/scratch/djubas/largeRtts8b.pickle'\u001b[0m\u001b[0;34m)\u001b[0m\u001b[0;34m\u001b[0m\u001b[0;34m\u001b[0m\u001b[0m\n\u001b[0;32m----> 9\u001b[0;31m \u001b[0mgoodKeys\u001b[0m \u001b[0;34m=\u001b[0m \u001b[0mgetDataFromFile\u001b[0m\u001b[0;34m(\u001b[0m\u001b[0;34m'/n/fs/scratch/djubas/goodkeys.pickle'\u001b[0m\u001b[0;34m)\u001b[0m\u001b[0;34m\u001b[0m\u001b[0;34m\u001b[0m\u001b[0m\n\u001b[0m",
      "\u001b[0;32m<ipython-input-10-2c7656f5b3a1>\u001b[0m in \u001b[0;36mgetDataFromFile\u001b[0;34m(filename)\u001b[0m\n\u001b[1;32m      1\u001b[0m \u001b[0;32mdef\u001b[0m \u001b[0mgetDataFromFile\u001b[0m\u001b[0;34m(\u001b[0m\u001b[0mfilename\u001b[0m\u001b[0;34m)\u001b[0m\u001b[0;34m:\u001b[0m\u001b[0;34m\u001b[0m\u001b[0;34m\u001b[0m\u001b[0m\n\u001b[0;32m----> 2\u001b[0;31m     \u001b[0;32mwith\u001b[0m \u001b[0mopen\u001b[0m\u001b[0;34m(\u001b[0m\u001b[0mfilename\u001b[0m\u001b[0;34m,\u001b[0m \u001b[0;34m'rb'\u001b[0m\u001b[0;34m)\u001b[0m \u001b[0;32mas\u001b[0m \u001b[0mf\u001b[0m\u001b[0;34m:\u001b[0m\u001b[0;34m\u001b[0m\u001b[0;34m\u001b[0m\u001b[0m\n\u001b[0m\u001b[1;32m      3\u001b[0m         \u001b[0mx\u001b[0m \u001b[0;34m=\u001b[0m \u001b[0mpickle\u001b[0m\u001b[0;34m.\u001b[0m\u001b[0mload\u001b[0m\u001b[0;34m(\u001b[0m\u001b[0mf\u001b[0m\u001b[0;34m)\u001b[0m\u001b[0;34m\u001b[0m\u001b[0;34m\u001b[0m\u001b[0m\n\u001b[1;32m      4\u001b[0m         \u001b[0mprint\u001b[0m\u001b[0;34m(\u001b[0m\u001b[0;34mf'Retreived Data from {filename}'\u001b[0m\u001b[0;34m)\u001b[0m\u001b[0;34m\u001b[0m\u001b[0;34m\u001b[0m\u001b[0m\n\u001b[1;32m      5\u001b[0m         \u001b[0;32mreturn\u001b[0m \u001b[0mx\u001b[0m\u001b[0;34m\u001b[0m\u001b[0;34m\u001b[0m\u001b[0m\n",
      "\u001b[0;31mFileNotFoundError\u001b[0m: [Errno 2] No such file or directory: '/n/fs/scratch/djubas/goodkeys.pickle'"
     ]
    }
   ],
   "source": [
    "rttData1 = getDataFromFile('/n/fs/scratch/djubas/largeRtts1b.pickle')\n",
    "rttData2 = getDataFromFile('/n/fs/scratch/djubas/largeRtts2b.pickle')\n",
    "rttData3 = getDataFromFile('/n/fs/scratch/djubas/largeRtts3b.pickle')\n",
    "rttData4 = getDataFromFile('/n/fs/scratch/djubas/largeRtts4b.pickle')\n",
    "rttData5 = getDataFromFile('/n/fs/scratch/djubas/largeRtts5b.pickle')\n",
    "rttData6 = getDataFromFile('/n/fs/scratch/djubas/largeRtts6b.pickle')\n",
    "rttData7 = getDataFromFile('/n/fs/scratch/djubas/largeRtts7b.pickle')\n",
    "rttData8 = getDataFromFile('/n/fs/scratch/djubas/largeRtts8b.pickle')\n",
    "goodKeys = getDataFromFile('/n/fs/scratch/djubas/goodKeys.pickle')"
   ]
  },
  {
   "cell_type": "code",
   "execution_count": 86,
   "metadata": {},
   "outputs": [],
   "source": [
    "datasets = [rttData1, rttData2, rttData3, rttData4, rttData5, rttData6, rttData7,rttData8]"
   ]
  },
  {
   "cell_type": "code",
   "execution_count": 85,
   "metadata": {},
   "outputs": [
    {
     "name": "stdout",
     "output_type": "stream",
     "text": [
      "Retreived Data from /n/fs/scratch/djubas/goodKeys.pickle\n"
     ]
    }
   ],
   "source": [
    "goodKeys = getDataFromFile('/n/fs/scratch/djubas/goodKeys.pickle')"
   ]
  },
  {
   "cell_type": "code",
   "execution_count": 35,
   "metadata": {},
   "outputs": [
    {
     "name": "stdout",
     "output_type": "stream",
     "text": [
      "Retreived Data from <DirEntry 'partialPromisingDictTwoWindow163.pickle'>\n",
      "Retreived Data from <DirEntry 'partialPromisingDictShort245.pickle'>\n",
      "Retreived Data from <DirEntry 'partialPromisingDictShort4.pickle'>\n",
      "Retreived Data from <DirEntry 'partialPromisingDictTwoWindow161.pickle'>\n",
      "Retreived Data from <DirEntry 'partialPromisingDictShort241.pickle'>\n",
      "Retreived Data from <DirEntry 'partialPromisingDictTwoWindow167.pickle'>\n",
      "Retreived Data from <DirEntry 'partialPromisingDictTwoWindow325.pickle'>\n",
      "Retreived Data from <DirEntry 'partialPromisingDictTwoWindow326.pickle'>\n",
      "Retreived Data from <DirEntry 'partialPromisingDictTwoWindow80.pickle'>\n",
      "Retreived Data from <DirEntry 'partialPromisingDictShort2.pickle'>\n",
      "Retreived Data from <DirEntry 'partialPromisingDictTwoWindow323.pickle'>\n",
      "Retreived Data from <DirEntry 'partialPromisingDictTwoWindow81.pickle'>\n",
      "Retreived Data from <DirEntry 'partialPromisingDictShort247.pickle'>\n",
      "Retreived Data from <DirEntry 'partialPromisingDictTwoWindow86.pickle'>\n",
      "Retreived Data from <DirEntry 'partialPromisingDictTwoWindow322.pickle'>\n",
      "Retreived Data from <DirEntry 'partialPromisingDictTwoWindow162.pickle'>\n",
      "Retreived Data from <DirEntry 'partialPromisingDictTwoWindow83.pickle'>\n",
      "Retreived Data from <DirEntry 'partialPromisingDictShort1.pickle'>\n",
      "Retreived Data from <DirEntry 'partialPromisingDictShort6.pickle'>\n",
      "Retreived Data from <DirEntry 'partialPromisingDictShort0.pickle'>\n",
      "Retreived Data from <DirEntry 'partialPromisingDictTwoWindow82.pickle'>\n",
      "Retreived Data from <DirEntry 'partialPromisingDictShort244.pickle'>\n",
      "Retreived Data from <DirEntry 'partialPromisingDictTwoWindow324.pickle'>\n",
      "Retreived Data from <DirEntry 'partialPromisingDictTwoWindow166.pickle'>\n",
      "Retreived Data from <DirEntry 'partialPromisingDictTwoWindow164.pickle'>\n",
      "Retreived Data from <DirEntry 'partialPromisingDictShort240.pickle'>\n",
      "Retreived Data from <DirEntry 'partialPromisingDictShort3.pickle'>\n",
      "Retreived Data from <DirEntry 'partialPromisingDictTwoWindow165.pickle'>\n",
      "Retreived Data from <DirEntry 'partialPromisingDictTwoWindow320.pickle'>\n",
      "Retreived Data from <DirEntry 'partialPromisingDictTwoWindow321.pickle'>\n",
      "Retreived Data from <DirEntry 'partialPromisingDictTwoWindow84.pickle'>\n",
      "Retreived Data from <DirEntry 'partialPromisingDictTwoWindow87.pickle'>\n",
      "Retreived Data from <DirEntry 'partialPromisingDictTwoWindow160.pickle'>\n",
      "Retreived Data from <DirEntry 'partialPromisingDictShort242.pickle'>\n",
      "Retreived Data from <DirEntry 'partialPromisingDictShort246.pickle'>\n",
      "Retreived Data from <DirEntry 'partialPromisingDictTwoWindow85.pickle'>\n",
      "Retreived Data from <DirEntry 'partialPromisingDictShort5.pickle'>\n",
      "Retreived Data from <DirEntry 'partialPromisingDictTwoWindow327.pickle'>\n",
      "Retreived Data from <DirEntry 'partialPromisingDictShort243.pickle'>\n",
      "Retreived Data from <DirEntry 'partialPromisingDictShort7.pickle'>\n",
      "440\n"
     ]
    }
   ],
   "source": [
    "directory = '/n/fs/scratch/djubas/twoWindowData/'\n",
    "fullData = {}\n",
    "for file in os.scandir(directory):\n",
    "    data = getDataFromFile(file)\n",
    "    fullData.update(data)\n",
    "print(len(fullData))"
   ]
  },
  {
   "cell_type": "code",
   "execution_count": 37,
   "metadata": {},
   "outputs": [],
   "source": [
    "combined = getCombinedTwoWindowDict(fullData)"
   ]
  },
  {
   "cell_type": "code",
   "execution_count": 123,
   "metadata": {},
   "outputs": [
    {
     "name": "stdout",
     "output_type": "stream",
     "text": [
      "[(IPv4Address('140.180.250.246'), IPv4Address('52.223.225.74'), 26344, 443), (IPv4Address('140.180.247.3'), IPv4Address('13.226.25.15'), 37115, 443), (IPv4Address('140.180.51.26'), IPv4Address('23.55.235.202'), 43943, 443), (IPv4Address('140.180.139.132'), IPv4Address('139.162.216.141'), 42368, 57933), (IPv4Address('140.180.11.3'), IPv4Address('71.245.121.141'), 443, 62454), (IPv4Address('140.180.156.217'), IPv4Address('173.71.196.71'), 443, 59720), (IPv4Address('140.180.156.217'), IPv4Address('96.248.77.67'), 443, 60203), (IPv4Address('140.180.11.3'), IPv4Address('65.183.144.129'), 443, 56909), (IPv4Address('140.180.192.226'), IPv4Address('54.183.142.105'), 61044, 443), (IPv4Address('140.180.171.118'), IPv4Address('13.107.6.158'), 44717, 443)]\n"
     ]
    }
   ],
   "source": [
    "keys = list(combined.keys())\n",
    "print(combined[keys[0]][0:10])"
   ]
  },
  {
   "cell_type": "code",
   "execution_count": 83,
   "metadata": {},
   "outputs": [
    {
     "data": {
      "image/png": "[encoded data removed]",
      "text/plain": [
       "<Figure size 432x288 with 1 Axes>"
      ]
     },
     "metadata": {
      "needs_background": "light"
     },
     "output_type": "display_data"
    }
   ],
   "source": [
    "makeTwoWindowConnectionsFlaggedFigure(combined)"
   ]
  },
  {
   "cell_type": "code",
   "execution_count": 110,
   "metadata": {},
   "outputs": [],
   "source": [
    "def getRtts(connection):\n",
    "    ret = [r[1] for r in connection]\n",
    "    return ret\n",
    "def getDateTimes(connection):\n",
    "    ret = [r[0] for r in connection]\n",
    "    return ret"
   ]
  },
  {
   "cell_type": "code",
   "execution_count": 121,
   "metadata": {},
   "outputs": [
    {
     "name": "stdout",
     "output_type": "stream",
     "text": [
      "h\n",
      "h\n",
      "h\n",
      "h\n",
      "h\n",
      "h\n",
      "h\n",
      "h\n",
      "h\n",
      "h\n",
      "h\n",
      "h\n",
      "h\n",
      "h\n",
      "h\n",
      "h\n",
      "h\n",
      "h\n",
      "h\n",
      "h\n",
      "h\n",
      "h\n",
      "h\n",
      "h\n",
      "h\n",
      "h\n",
      "h\n",
      "h\n",
      "h\n",
      "h\n",
      "h\n",
      "h\n",
      "h\n",
      "h\n",
      "h\n",
      "h\n",
      "h\n",
      "h\n",
      "h\n",
      "h\n",
      "h\n",
      "h\n",
      "h\n",
      "h\n",
      "h\n",
      "h\n",
      "h\n",
      "h\n"
     ]
    },
    {
     "ename": "KeyboardInterrupt",
     "evalue": "",
     "output_type": "error",
     "traceback": [
      "\u001b[0;31m---------------------------------------------------------------------------\u001b[0m",
      "\u001b[0;31mKeyboardInterrupt\u001b[0m                         Traceback (most recent call last)",
      "\u001b[0;32m<ipython-input-121-f8c6feb5477b>\u001b[0m in \u001b[0;36m<module>\u001b[0;34m\u001b[0m\n\u001b[1;32m      7\u001b[0m         \u001b[0mrtts\u001b[0m \u001b[0;34m=\u001b[0m \u001b[0mgetRtts\u001b[0m\u001b[0;34m(\u001b[0m\u001b[0mdataset\u001b[0m\u001b[0;34m[\u001b[0m\u001b[0mkey\u001b[0m\u001b[0;34m]\u001b[0m\u001b[0;34m)\u001b[0m\u001b[0;34m\u001b[0m\u001b[0;34m\u001b[0m\u001b[0m\n\u001b[1;32m      8\u001b[0m         \u001b[0mtimes\u001b[0m\u001b[0;34m=\u001b[0m \u001b[0mgetDateTimes\u001b[0m\u001b[0;34m(\u001b[0m\u001b[0mdataset\u001b[0m\u001b[0;34m[\u001b[0m\u001b[0mkey\u001b[0m\u001b[0;34m]\u001b[0m\u001b[0;34m)\u001b[0m\u001b[0;34m\u001b[0m\u001b[0;34m\u001b[0m\u001b[0m\n\u001b[0;32m----> 9\u001b[0;31m         \u001b[0mflag\u001b[0m\u001b[0;34m,\u001b[0m \u001b[0mmins\u001b[0m\u001b[0;34m,\u001b[0m \u001b[0mjumps\u001b[0m \u001b[0;34m=\u001b[0m \u001b[0mtwoWindow\u001b[0m\u001b[0;34m(\u001b[0m\u001b[0mrtts\u001b[0m\u001b[0;34m,\u001b[0m \u001b[0mwindowSize\u001b[0m\u001b[0;34m=\u001b[0m\u001b[0mwindowSize\u001b[0m\u001b[0;34m)\u001b[0m\u001b[0;34m\u001b[0m\u001b[0;34m\u001b[0m\u001b[0m\n\u001b[0m\u001b[1;32m     10\u001b[0m         \u001b[0;32mif\u001b[0m \u001b[0mflag\u001b[0m \u001b[0;34m==\u001b[0m \u001b[0;36m1\u001b[0m\u001b[0;34m:\u001b[0m\u001b[0;34m\u001b[0m\u001b[0;34m\u001b[0m\u001b[0m\n\u001b[1;32m     11\u001b[0m             \u001b[0mprint\u001b[0m\u001b[0;34m(\u001b[0m\u001b[0;34m\"h\"\u001b[0m\u001b[0;34m)\u001b[0m\u001b[0;34m\u001b[0m\u001b[0;34m\u001b[0m\u001b[0m\n",
      "\u001b[0;32m<ipython-input-118-81ee9721cd7d>\u001b[0m in \u001b[0;36mtwoWindow\u001b[0;34m(data, windowSize, jump1, short)\u001b[0m\n\u001b[1;32m      5\u001b[0m     \u001b[0mjumps\u001b[0m \u001b[0;34m=\u001b[0m \u001b[0;34m[\u001b[0m\u001b[0;34m]\u001b[0m\u001b[0;34m\u001b[0m\u001b[0;34m\u001b[0m\u001b[0m\n\u001b[1;32m      6\u001b[0m     \u001b[0mflag\u001b[0m \u001b[0;34m=\u001b[0m \u001b[0;36m0\u001b[0m\u001b[0;34m\u001b[0m\u001b[0;34m\u001b[0m\u001b[0m\n\u001b[0;32m----> 7\u001b[0;31m     \u001b[0mmins\u001b[0m \u001b[0;34m=\u001b[0m \u001b[0mgetMinimums\u001b[0m\u001b[0;34m(\u001b[0m\u001b[0mdata\u001b[0m\u001b[0;34m,\u001b[0m \u001b[0mwindowSize\u001b[0m\u001b[0;34m)\u001b[0m\u001b[0;34m\u001b[0m\u001b[0;34m\u001b[0m\u001b[0m\n\u001b[0m\u001b[1;32m      8\u001b[0m     \u001b[0;32mfor\u001b[0m \u001b[0mi\u001b[0m \u001b[0;32min\u001b[0m \u001b[0mrange\u001b[0m\u001b[0;34m(\u001b[0m\u001b[0mlen\u001b[0m\u001b[0;34m(\u001b[0m\u001b[0mmins\u001b[0m\u001b[0;34m)\u001b[0m \u001b[0;34m-\u001b[0m \u001b[0;36m1\u001b[0m\u001b[0;34m)\u001b[0m\u001b[0;34m:\u001b[0m\u001b[0;34m\u001b[0m\u001b[0;34m\u001b[0m\u001b[0m\n\u001b[1;32m      9\u001b[0m         \u001b[0;32mif\u001b[0m \u001b[0mmins\u001b[0m\u001b[0;34m[\u001b[0m\u001b[0mi\u001b[0m\u001b[0;34m+\u001b[0m\u001b[0;36m1\u001b[0m\u001b[0;34m]\u001b[0m \u001b[0;34m-\u001b[0m \u001b[0mmins\u001b[0m\u001b[0;34m[\u001b[0m\u001b[0mi\u001b[0m\u001b[0;34m]\u001b[0m \u001b[0;34m>=\u001b[0m \u001b[0mjump1\u001b[0m\u001b[0;34m:\u001b[0m\u001b[0;34m\u001b[0m\u001b[0;34m\u001b[0m\u001b[0m\n",
      "\u001b[0;32m<ipython-input-10-2c7656f5b3a1>\u001b[0m in \u001b[0;36mgetMinimums\u001b[0;34m(data, windowSize)\u001b[0m\n\u001b[1;32m     13\u001b[0m     \u001b[0mret\u001b[0m \u001b[0;34m=\u001b[0m \u001b[0;34m[\u001b[0m\u001b[0;34m]\u001b[0m\u001b[0;34m\u001b[0m\u001b[0;34m\u001b[0m\u001b[0m\n\u001b[1;32m     14\u001b[0m     \u001b[0;32mfor\u001b[0m \u001b[0mi\u001b[0m \u001b[0;32min\u001b[0m \u001b[0mrange\u001b[0m\u001b[0;34m(\u001b[0m\u001b[0;36m0\u001b[0m\u001b[0;34m,\u001b[0m \u001b[0mlen\u001b[0m\u001b[0;34m(\u001b[0m\u001b[0mdata\u001b[0m\u001b[0;34m)\u001b[0m\u001b[0;34m-\u001b[0m\u001b[0mwindowSize\u001b[0m\u001b[0;34m,\u001b[0m \u001b[0mwindowSize\u001b[0m\u001b[0;34m)\u001b[0m\u001b[0;34m:\u001b[0m\u001b[0;34m\u001b[0m\u001b[0;34m\u001b[0m\u001b[0m\n\u001b[0;32m---> 15\u001b[0;31m         \u001b[0mret\u001b[0m\u001b[0;34m.\u001b[0m\u001b[0mappend\u001b[0m\u001b[0;34m(\u001b[0m\u001b[0mnp\u001b[0m\u001b[0;34m.\u001b[0m\u001b[0mmin\u001b[0m\u001b[0;34m(\u001b[0m\u001b[0mdata\u001b[0m\u001b[0;34m[\u001b[0m\u001b[0mi\u001b[0m\u001b[0;34m:\u001b[0m\u001b[0mi\u001b[0m\u001b[0;34m+\u001b[0m\u001b[0mwindowSize\u001b[0m\u001b[0;34m]\u001b[0m\u001b[0;34m)\u001b[0m\u001b[0;34m)\u001b[0m\u001b[0;34m\u001b[0m\u001b[0;34m\u001b[0m\u001b[0m\n\u001b[0m\u001b[1;32m     16\u001b[0m     \u001b[0;32mreturn\u001b[0m \u001b[0mret\u001b[0m\u001b[0;34m\u001b[0m\u001b[0;34m\u001b[0m\u001b[0m\n",
      "\u001b[0;31mKeyboardInterrupt\u001b[0m: "
     ]
    }
   ],
   "source": [
    "def getFlaggedConnectionsTwoWindow(datasetNumber, windowSizes=[24], jump1s=[20])\n",
    "    flagged = {}\n",
    "    for i in range(len(goodKeys)):\n",
    "        for windowSize = windowSizes:\n",
    "            for jump1 in jump1s:\n",
    "                promising = []\n",
    "                dataset = datasets[i]\n",
    "                for key in goodKeys[i]:\n",
    "                    rtts = getRtts(dataset[key])\n",
    "                    times= getDateTimes(dataset[key])\n",
    "                    flag, mins, jumps = twoWindow(rtts, windowSize=windowSize)\n",
    "                    if flag == 1:\n",
    "                        promising.append(key)\n",
    "                tup = (windowSize, jump1, i)\n",
    "                flagged[tup] = promising\n",
    "                        \n",
    "        \n",
    "print(len(goodKeys))"
   ]
  },
  {
   "cell_type": "code",
   "execution_count": null,
   "metadata": {},
   "outputs": [],
   "source": []
  }
 ],
 "metadata": {
  "kernelspec": {
   "display_name": "Python 3",
   "language": "python",
   "name": "python3"
  },
  "language_info": {
   "codemirror_mode": {
    "name": "ipython",
    "version": 3
   },
   "file_extension": ".py",
   "mimetype": "text/x-python",
   "name": "python",
   "nbconvert_exporter": "python",
   "pygments_lexer": "ipython3",
   "version": "3.6.8"
  }
 },
 "nbformat": 4,
 "nbformat_minor": 4
}
