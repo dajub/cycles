{
 "cells": [
  {
   "cell_type": "code",
   "execution_count": 49,
   "metadata": {},
   "outputs": [],
   "source": [
    "import numpy as np\n",
    "import os\n",
    "import pickle\n",
    "import pprint as pp\n",
    "import matplotlib.pyplot as plt"
   ]
  },
  {
   "cell_type": "code",
   "execution_count": 72,
   "metadata": {},
   "outputs": [],
   "source": [
    "CAMPUS_USED_DATA_SET = 454000"
   ]
  },
  {
   "cell_type": "code",
   "execution_count": 10,
   "metadata": {},
   "outputs": [],
   "source": [
    "def getDataFromFile(filename):\n",
    "    with open(filename, 'rb') as f:\n",
    "        x = pickle.load(f)\n",
    "        print(f'Retreived Data from {filename}')\n",
    "        return x\n",
    "def writeDataToFile(data, filename):\n",
    "    outfile = open(filename,'wb')\n",
    "    pickle.dump(data,outfile)\n",
    "    outfile.close()\n",
    "    print(f'wrote data to {filename}')\n",
    "\n",
    "def getMinimums(data, windowSize):\n",
    "    ret = []\n",
    "    for i in range(0, len(data)-windowSize, windowSize):\n",
    "        ret.append(np.min(data[i:i+windowSize]))\n",
    "    return ret"
   ]
  },
  {
   "cell_type": "code",
   "execution_count": 11,
   "metadata": {},
   "outputs": [],
   "source": [
    "def twoWindow(data, windowSize=16, jump1=80, short=False):\n",
    "    if len(data)/2 < windowSize:\n",
    "        print(f'too little data {len(data)} to run twoWindow with window size {windowSize}')\n",
    "        return 0, [], []\n",
    "    jumps = []\n",
    "    flag = 0\n",
    "    mins = getMinimums(data)\n",
    "    for i in range(len(mins) - 1):\n",
    "        if mins[i+1] - mins[i] >= jump1:\n",
    "            jumps.append(i)\n",
    "            flag = 1\n",
    "            if short:\n",
    "                return flag, mins, jumps\n",
    "    return flag, mins, jumps            "
   ]
  },
  {
   "cell_type": "code",
   "execution_count": 14,
   "metadata": {},
   "outputs": [],
   "source": [
    "def threeWindow(data, windowSize=16, jump1=80, jump2=2, short=False):\n",
    "    if len(data)/3 < windowSize:\n",
    "        print(f'too little data {len(data)} to run threeWindow with window size {windowSize}')\n",
    "        return 0, [], [], []\n",
    "    jumps = [] # index of jumps\n",
    "    bloats = []\n",
    "    flag # 0: nothing, 1: contains an suspected attack\n",
    "    mins = getMinimums(data)\n",
    "    for i in range(len(mins) - 2):\n",
    "        if mins[i+1] - mins[i] >= jump1:\n",
    "            ## see a jump, is it bloat or sustained?\n",
    "            if abs(mins[i+2] - mins[i+1]) < jump2:\n",
    "                jumps.append(i)\n",
    "                flag = 0\n",
    "                if short:\n",
    "                    return flag, mins, jumps, bloats\n",
    "            else:\n",
    "                bloats.append(i)\n",
    "    return flag, mins, jumps, bloats"
   ]
  },
  {
   "cell_type": "code",
   "execution_count": 24,
   "metadata": {},
   "outputs": [],
   "source": [
    "def getCombinedTwoWindowDict(twoWindowDataFull):\n",
    "    combined = {}\n",
    "    keys = list(twoWindowDataFull.keys())\n",
    "    for key in keys:\n",
    "        tup = (key[0], key[1])\n",
    "        old = combined.get(tup, [])\n",
    "        combined[tup] = old + twoWindowDataFull[key]\n",
    "    return combined\n",
    "    "
   ]
  },
  {
   "cell_type": "code",
   "execution_count": 78,
   "metadata": {},
   "outputs": [],
   "source": [
    "def makeTwoWindowConnectionsFlaggedFigure(totalCombinedData):\n",
    "    keys = sorted(list(totalCombinedData.keys()))\n",
    "    counts = []\n",
    "    for key in keys:\n",
    "        counts.append(len(combined[key]))\n",
    "    x8 = []\n",
    "    y8 = []\n",
    "    x16 = []\n",
    "    y16 = []\n",
    "    x24 = []\n",
    "    y24 = []\n",
    "    x32 = []\n",
    "    y32 = []\n",
    "    tracker = {8:[x8,y8], 16:[x16,y16], 24:[x24,y24], 32:[x32,y32]}\n",
    "    for i in range(len(keys)):\n",
    "        windowSize = keys[i][0]\n",
    "        tracker[windowSize][0].append(keys[i][1])\n",
    "        tracker[windowSize][1].append(counts[i]/ CAMPUS_USED_DATA_SET * 100 )\n",
    "    fig, ax = plt.subplots()\n",
    "    legend = []\n",
    "    for windowSize in tracker.keys():\n",
    "        plt.plot(tracker[windowSize][0][7:], tracker[windowSize][1][7:], 'x-')\n",
    "        legend.append(str(windowSize))\n",
    "    plt.legend(legend)\n",
    "    plt.ylabel(\"\\% of connections flagged\")\n",
    "    plt.xlabel(\"jump size\")\n"
   ]
  },
  {
   "cell_type": "code",
   "execution_count": 35,
   "metadata": {},
   "outputs": [
    {
     "name": "stdout",
     "output_type": "stream",
     "text": [
      "Retreived Data from <DirEntry 'partialPromisingDictTwoWindow163.pickle'>\n",
      "Retreived Data from <DirEntry 'partialPromisingDictShort245.pickle'>\n",
      "Retreived Data from <DirEntry 'partialPromisingDictShort4.pickle'>\n",
      "Retreived Data from <DirEntry 'partialPromisingDictTwoWindow161.pickle'>\n",
      "Retreived Data from <DirEntry 'partialPromisingDictShort241.pickle'>\n",
      "Retreived Data from <DirEntry 'partialPromisingDictTwoWindow167.pickle'>\n",
      "Retreived Data from <DirEntry 'partialPromisingDictTwoWindow325.pickle'>\n",
      "Retreived Data from <DirEntry 'partialPromisingDictTwoWindow326.pickle'>\n",
      "Retreived Data from <DirEntry 'partialPromisingDictTwoWindow80.pickle'>\n",
      "Retreived Data from <DirEntry 'partialPromisingDictShort2.pickle'>\n",
      "Retreived Data from <DirEntry 'partialPromisingDictTwoWindow323.pickle'>\n",
      "Retreived Data from <DirEntry 'partialPromisingDictTwoWindow81.pickle'>\n",
      "Retreived Data from <DirEntry 'partialPromisingDictShort247.pickle'>\n",
      "Retreived Data from <DirEntry 'partialPromisingDictTwoWindow86.pickle'>\n",
      "Retreived Data from <DirEntry 'partialPromisingDictTwoWindow322.pickle'>\n",
      "Retreived Data from <DirEntry 'partialPromisingDictTwoWindow162.pickle'>\n",
      "Retreived Data from <DirEntry 'partialPromisingDictTwoWindow83.pickle'>\n",
      "Retreived Data from <DirEntry 'partialPromisingDictShort1.pickle'>\n",
      "Retreived Data from <DirEntry 'partialPromisingDictShort6.pickle'>\n",
      "Retreived Data from <DirEntry 'partialPromisingDictShort0.pickle'>\n",
      "Retreived Data from <DirEntry 'partialPromisingDictTwoWindow82.pickle'>\n",
      "Retreived Data from <DirEntry 'partialPromisingDictShort244.pickle'>\n",
      "Retreived Data from <DirEntry 'partialPromisingDictTwoWindow324.pickle'>\n",
      "Retreived Data from <DirEntry 'partialPromisingDictTwoWindow166.pickle'>\n",
      "Retreived Data from <DirEntry 'partialPromisingDictTwoWindow164.pickle'>\n",
      "Retreived Data from <DirEntry 'partialPromisingDictShort240.pickle'>\n",
      "Retreived Data from <DirEntry 'partialPromisingDictShort3.pickle'>\n",
      "Retreived Data from <DirEntry 'partialPromisingDictTwoWindow165.pickle'>\n",
      "Retreived Data from <DirEntry 'partialPromisingDictTwoWindow320.pickle'>\n",
      "Retreived Data from <DirEntry 'partialPromisingDictTwoWindow321.pickle'>\n",
      "Retreived Data from <DirEntry 'partialPromisingDictTwoWindow84.pickle'>\n",
      "Retreived Data from <DirEntry 'partialPromisingDictTwoWindow87.pickle'>\n",
      "Retreived Data from <DirEntry 'partialPromisingDictTwoWindow160.pickle'>\n",
      "Retreived Data from <DirEntry 'partialPromisingDictShort242.pickle'>\n",
      "Retreived Data from <DirEntry 'partialPromisingDictShort246.pickle'>\n",
      "Retreived Data from <DirEntry 'partialPromisingDictTwoWindow85.pickle'>\n",
      "Retreived Data from <DirEntry 'partialPromisingDictShort5.pickle'>\n",
      "Retreived Data from <DirEntry 'partialPromisingDictTwoWindow327.pickle'>\n",
      "Retreived Data from <DirEntry 'partialPromisingDictShort243.pickle'>\n",
      "Retreived Data from <DirEntry 'partialPromisingDictShort7.pickle'>\n",
      "440\n"
     ]
    }
   ],
   "source": [
    "directory = '/n/fs/scratch/djubas/twoWindowData/'\n",
    "fullData = {}\n",
    "for file in os.scandir(directory):\n",
    "    data = getDataFromFile(file)\n",
    "    fullData.update(data)\n",
    "print(len(fullData))"
   ]
  },
  {
   "cell_type": "code",
   "execution_count": 37,
   "metadata": {},
   "outputs": [],
   "source": [
    "combined = getCombinedTwoWindowDict(fullData)"
   ]
  },
  {
   "cell_type": "code",
   "execution_count": 79,
   "metadata": {},
   "outputs": [
    {
     "data": {
      "image/png": "[encoded data removed]",
      "text/plain": [
       "<Figure size 432x288 with 1 Axes>"
      ]
     },
     "metadata": {
      "needs_background": "light"
     },
     "output_type": "display_data"
    }
   ],
   "source": [
    "makeTwoWindowConnectionsFlaggedFigure(combined)"
   ]
  },
  {
   "cell_type": "code",
   "execution_count": null,
   "metadata": {},
   "outputs": [],
   "source": []
  }
 ],
 "metadata": {
  "kernelspec": {
   "display_name": "Python 3",
   "language": "python",
   "name": "python3"
  },
  "language_info": {
   "codemirror_mode": {
    "name": "ipython",
    "version": 3
   },
   "file_extension": ".py",
   "mimetype": "text/x-python",
   "name": "python",
   "nbconvert_exporter": "python",
   "pygments_lexer": "ipython3",
   "version": "3.6.8"
  }
 },
 "nbformat": 4,
 "nbformat_minor": 4
}
